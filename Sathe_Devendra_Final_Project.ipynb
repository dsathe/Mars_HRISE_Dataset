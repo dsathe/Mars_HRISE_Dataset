{
 "cells": [
  {
   "cell_type": "markdown",
   "id": "d4a4c973-c4f1-460d-8f8f-7d08a814c3d9",
   "metadata": {
    "id": "d4a4c973-c4f1-460d-8f8f-7d08a814c3d9"
   },
   "source": [
    "<center><h1>Sathe_Devendra_Final_Project</h1></center>\n",
    "<br>\n",
    "<br>"
   ]
  },
  {
   "cell_type": "markdown",
   "id": "21d552d9-3c8f-4fdf-8201-ac38fae245d5",
   "metadata": {
    "id": "21d552d9-3c8f-4fdf-8201-ac38fae245d5"
   },
   "source": [
    "### NAME:- DEVENDRA SATHE\n",
    "### USC ID:- 9957504129\n",
    "### GITHUB ID:- dsathe123 (dsathe@usc.edu)"
   ]
  },
  {
   "cell_type": "markdown",
   "id": "3d0aa530-ddba-483e-8038-41549ba51e48",
   "metadata": {
    "id": "3d0aa530-ddba-483e-8038-41549ba51e48"
   },
   "source": [
    "##\n",
    "### Importing Libraries"
   ]
  },
  {
   "cell_type": "code",
   "execution_count": 1,
   "id": "f44e9188-40e1-4975-ae64-7bedfac41a95",
   "metadata": {
    "id": "f44e9188-40e1-4975-ae64-7bedfac41a95"
   },
   "outputs": [
    {
     "name": "stdout",
     "output_type": "stream",
     "text": [
      "Requirement already satisfied: efficientnet_pytorch in d:\\application\\anaconda\\lib\\site-packages (0.7.1)\n",
      "Requirement already satisfied: torch in d:\\application\\anaconda\\lib\\site-packages (from efficientnet_pytorch) (2.1.1)\n",
      "Requirement already satisfied: filelock in c:\\users\\devendra\\appdata\\roaming\\python\\python311\\site-packages (from torch->efficientnet_pytorch) (3.13.1)\n",
      "Requirement already satisfied: typing-extensions in d:\\application\\anaconda\\lib\\site-packages (from torch->efficientnet_pytorch) (4.7.1)\n",
      "Requirement already satisfied: sympy in d:\\application\\anaconda\\lib\\site-packages (from torch->efficientnet_pytorch) (1.12)\n",
      "Requirement already satisfied: networkx in d:\\application\\anaconda\\lib\\site-packages (from torch->efficientnet_pytorch) (3.1)\n",
      "Requirement already satisfied: jinja2 in d:\\application\\anaconda\\lib\\site-packages (from torch->efficientnet_pytorch) (3.1.2)\n",
      "Requirement already satisfied: fsspec in d:\\application\\anaconda\\lib\\site-packages (from torch->efficientnet_pytorch) (2023.10.0)\n",
      "Requirement already satisfied: MarkupSafe>=2.0 in d:\\application\\anaconda\\lib\\site-packages (from jinja2->torch->efficientnet_pytorch) (2.1.1)\n",
      "Requirement already satisfied: mpmath>=0.19 in d:\\application\\anaconda\\lib\\site-packages (from sympy->torch->efficientnet_pytorch) (1.3.0)\n"
     ]
    }
   ],
   "source": [
    "import os\n",
    "import pandas as pd\n",
    "import numpy as np\n",
    "import matplotlib.pyplot as plt\n",
    "import seaborn as sns\n",
    "import torch, torchvision\n",
    "from torchvision import datasets, transforms\n",
    "from torch.utils.data import DataLoader\n",
    "import os\n",
    "import os.path as op\n",
    "import json\n",
    "from pathlib import Path\n",
    "import random\n",
    "from PIL import Image\n",
    "import shutil\n",
    "from torch import nn, save, load\n",
    "import torch.nn.functional as F\n",
    "from torch.optim import Adam\n",
    "from tqdm import tqdm\n",
    "from sklearn.metrics import accuracy_score, recall_score, precision_score, f1_score\n",
    "!pip install efficientnet_pytorch\n",
    "from efficientnet_pytorch import EfficientNet"
   ]
  },
  {
   "cell_type": "markdown",
   "id": "f5aa7824-9ead-4f0e-a438-7537147bd554",
   "metadata": {},
   "source": [
    "### Data Exploration and Pre-processing"
   ]
  },
  {
   "cell_type": "code",
   "execution_count": 2,
   "id": "oiiF_VgCuAtT",
   "metadata": {
    "id": "oiiF_VgCuAtT"
   },
   "outputs": [],
   "source": [
    "train_folder = \"./Img_Data/Train/\"\n",
    "test_folder = \"./Img_data/Test/\"\n",
    "val_folder = \"./Img_data/Val/\""
   ]
  },
  {
   "cell_type": "code",
   "execution_count": 5,
   "id": "5aed10e0-cff1-4d54-b31a-141dec014fec",
   "metadata": {
    "id": "5aed10e0-cff1-4d54-b31a-141dec014fec"
   },
   "outputs": [],
   "source": [
    "IMAGE_SIZE = (299, 299)  # All images contained in this dataset are 299x299 (originally, to match Inception v3 input size)\n",
    "SEED = 17\n",
    "\n",
    "# Head directory containing all image subframes. Update with the relative path of your data directory\n",
    "data_head_dir = Path('./data')\n",
    "\n",
    "# Find all subframe directories\n",
    "subdirs = [Path(subdir.stem) for subdir in data_head_dir.iterdir() if subdir.is_dir()]\n",
    "src_image_ids = ['_'.join(a_path.name.split('_')[:3]) for a_path in subdirs]"
   ]
  },
  {
   "cell_type": "code",
   "execution_count": 6,
   "id": "79cd84f3-ab36-4a6d-ab8b-0832b48f1046",
   "metadata": {
    "id": "79cd84f3-ab36-4a6d-ab8b-0832b48f1046"
   },
   "outputs": [],
   "source": [
    "# Load train/val/test subframe IDs\n",
    "def load_text_ids(file_path):\n",
    "    \"\"\"Simple helper to load all lines from a text file\"\"\"\n",
    "    with open(file_path, 'r') as f:\n",
    "        lines = [line.strip() for line in f.readlines()]\n",
    "    return lines\n",
    "\n",
    "# Load the subframe names for the three data subsets\n",
    "train_ids = load_text_ids('./train_source_images.txt')\n",
    "validate_ids = load_text_ids('./val_source_images.txt')\n",
    "test_ids = load_text_ids('./test_source_images.txt')\n",
    "\n",
    "# Generate a list containing the dataset split for the matching subdirectory names\n",
    "subdir_splits = []\n",
    "for src_id in src_image_ids:\n",
    "    if src_id in train_ids:\n",
    "        subdir_splits.append('train')\n",
    "    elif src_id in validate_ids:\n",
    "        subdir_splits.append('validate')\n",
    "    elif(src_id in test_ids):\n",
    "        subdir_splits.append('test')\n",
    "    else:\n",
    "        logging.warning(f'{src_id}: Did not find designated split in train/validate/test list.')\n",
    "        subdir_splits.append(None)"
   ]
  },
  {
   "cell_type": "code",
   "execution_count": 7,
   "id": "e444060b-98a8-4387-9b67-4eebfae8bf39",
   "metadata": {
    "id": "e444060b-98a8-4387-9b67-4eebfae8bf39"
   },
   "outputs": [],
   "source": [
    "ptr = 0\n",
    "for subdir in subdirs:\n",
    "    #print(subdir)\n",
    "    if subdir_splits[ptr] == \"train\":\n",
    "        shutil.copytree(data_folder+str(subdir)+\"/\",train_folder+str(subdir))\n",
    "    elif subdir_splits[ptr] == \"test\":\n",
    "        shutil.copytree(data_folder+str(subdir)+\"/\",test_folder+str(subdir))\n",
    "    else:\n",
    "        shutil.copytree(data_folder+str(subdir)+\"/\",val_folder+str(subdir))\n",
    "    ptr = ptr + 1"
   ]
  },
  {
   "cell_type": "code",
   "execution_count": 8,
   "id": "84caf6e5-9dc9-4b81-944d-1718acc140af",
   "metadata": {
    "id": "84caf6e5-9dc9-4b81-944d-1718acc140af"
   },
   "outputs": [],
   "source": [
    "def get_folders_in_location(location):\n",
    "    folders = [f for f in os.listdir(location) if os.path.isdir(os.path.join(location, f))]\n",
    "    return folders\n",
    "def check_directory_exists(directory):\n",
    "    return os.path.exists(directory) and os.path.isdir(directory)"
   ]
  },
  {
   "cell_type": "code",
   "execution_count": 9,
   "id": "ee8a8657-aaa5-45ec-b733-c4a7eb60a1fc",
   "metadata": {
    "id": "ee8a8657-aaa5-45ec-b733-c4a7eb60a1fc"
   },
   "outputs": [],
   "source": [
    "train_folder_list = get_folders_in_location(train_folder)\n",
    "test_folder_list = get_folders_in_location(test_folder)\n",
    "val_folder_list = get_folders_in_location(val_folder)"
   ]
  },
  {
   "cell_type": "code",
   "execution_count": 10,
   "id": "2cafe4a0-fa13-4a56-bbbd-7753f2f7810a",
   "metadata": {
    "id": "2cafe4a0-fa13-4a56-bbbd-7753f2f7810a"
   },
   "outputs": [],
   "source": [
    "# Performing for train folder\n",
    "for folder in train_folder_list:\n",
    "    if folder==\"background\" or folder==\"frost\":\n",
    "        #Do nothing\n",
    "        print(\"here\")\n",
    "    elif check_directory_exists(train_folder+folder+\"/tiles/background/\"):\n",
    "        files = [f for f in os.listdir(train_folder+folder+\"/tiles/background/\") if os.path.isfile(os.path.join(train_folder+folder+\"/tiles/background/\", f))]\n",
    "        for file in files:\n",
    "            source_path = os.path.join(train_folder+folder+\"/tiles/background/\", file)\n",
    "            destination_path = os.path.join(train_folder+\"background/\", file)\n",
    "            shutil.copy2(source_path, destination_path)\n",
    "    elif check_directory_exists(train_folder+folder+\"/tiles/frost/\"):\n",
    "        files = [f for f in os.listdir(train_folder+folder+\"/tiles/frost/\") if os.path.isfile(os.path.join(train_folder+folder+\"/tiles/frost/\", f))]\n",
    "        for file in files:\n",
    "            source_path = os.path.join(train_folder+folder+\"/tiles/frost/\", file)\n",
    "            destination_path = os.path.join(train_folder+\"frost/\", file)\n",
    "            shutil.copy2(source_path, destination_path)\n",
    "    else:\n",
    "        print(\"Did not find both\")"
   ]
  },
  {
   "cell_type": "code",
   "execution_count": 11,
   "id": "819ba6c8-07a9-4863-b7b9-53506a236129",
   "metadata": {
    "id": "819ba6c8-07a9-4863-b7b9-53506a236129"
   },
   "outputs": [],
   "source": [
    "# Performing for val folder\n",
    "for folder in val_folder_list:\n",
    "    if folder==\"background\" or folder==\"frost\":\n",
    "        #Do nothing\n",
    "        print(\"here\")\n",
    "    elif check_directory_exists(val_folder+folder+\"/tiles/background/\"):\n",
    "        files = [f for f in os.listdir(val_folder+folder+\"/tiles/background/\") if os.path.isfile(os.path.join(val_folder+folder+\"/tiles/background/\", f))]\n",
    "        for file in files:\n",
    "            source_path = os.path.join(val_folder+folder+\"/tiles/background/\", file)\n",
    "            destination_path = os.path.join(val_folder+\"background/\", file)\n",
    "            shutil.copy2(source_path, destination_path)\n",
    "    elif check_directory_exists(val_folder+folder+\"/tiles/frost/\"):\n",
    "        files = [f for f in os.listdir(val_folder+folder+\"/tiles/frost/\") if os.path.isfile(os.path.join(val_folder+folder+\"/tiles/frost/\", f))]\n",
    "        for file in files:\n",
    "            source_path = os.path.join(val_folder+folder+\"/tiles/frost/\", file)\n",
    "            destination_path = os.path.join(val_folder+\"frost/\", file)\n",
    "            shutil.copy2(source_path, destination_path)\n",
    "    else:\n",
    "        print(\"Did not find both\")"
   ]
  },
  {
   "cell_type": "code",
   "execution_count": 12,
   "id": "340c5ce8-2e2f-482f-9da3-9c59fa3260ae",
   "metadata": {
    "id": "340c5ce8-2e2f-482f-9da3-9c59fa3260ae"
   },
   "outputs": [],
   "source": [
    "# Performing for test folder\n",
    "for folder in test_folder_list:\n",
    "    if folder==\"background\" or folder==\"frost\":\n",
    "        #Do nothing\n",
    "        print(\"here\")\n",
    "    elif check_directory_exists(test_folder+folder+\"/tiles/background/\"):\n",
    "        files = [f for f in os.listdir(test_folder+folder+\"/tiles/background/\") if os.path.isfile(os.path.join(test_folder+folder+\"/tiles/background/\", f))]\n",
    "        for file in files:\n",
    "            source_path = os.path.join(test_folder+folder+\"/tiles/background/\", file)\n",
    "            destination_path = os.path.join(test_folder+\"background/\", file)\n",
    "            shutil.copy2(source_path, destination_path)\n",
    "    elif check_directory_exists(test_folder+folder+\"/tiles/frost/\"):\n",
    "        files = [f for f in os.listdir(test_folder+folder+\"/tiles/frost/\") if os.path.isfile(os.path.join(test_folder+folder+\"/tiles/frost/\", f))]\n",
    "        for file in files:\n",
    "            source_path = os.path.join(test_folder+folder+\"/tiles/frost/\", file)\n",
    "            destination_path = os.path.join(test_folder+\"frost/\", file)\n",
    "            shutil.copy2(source_path, destination_path)\n",
    "    else:\n",
    "        print(\"Did not find both\")"
   ]
  },
  {
   "cell_type": "code",
   "execution_count": 13,
   "id": "915f9c53-d1bf-4a90-99a7-c951b82c20f7",
   "metadata": {
    "id": "915f9c53-d1bf-4a90-99a7-c951b82c20f7"
   },
   "outputs": [],
   "source": [
    "def delete_folders_except(source_folder, allowed_names):\n",
    "    for folder in os.listdir(source_folder):\n",
    "        folder_path = os.path.join(source_folder, folder)\n",
    "        if os.path.isdir(folder_path) and folder not in allowed_names:\n",
    "            try:\n",
    "                shutil.rmtree(folder_path)\n",
    "            except OSError as e:\n",
    "                print(f\"Error deleting folder {folder_path}: {e}\")"
   ]
  },
  {
   "cell_type": "code",
   "execution_count": 14,
   "id": "1041b77f-906f-40d6-966b-9f8a5be307b1",
   "metadata": {
    "id": "1041b77f-906f-40d6-966b-9f8a5be307b1"
   },
   "outputs": [],
   "source": [
    "delete_folders_except(val_folder,['background', 'frost'])\n",
    "delete_folders_except(train_folder,['background', 'frost'])\n",
    "delete_folders_except(test_folder,['background', 'frost'])"
   ]
  },
  {
   "cell_type": "markdown",
   "id": "22033761-9e08-4599-9dd6-94abe1f5674d",
   "metadata": {},
   "source": [
    "#### Pytorch Datasets Image folder requires data to be of form \n",
    "#### /folder \n",
    "##### -- /Frost - All frost images\n",
    "##### -- /Background - All background images \n",
    "\n",
    "##### Thus creating a new direcctory from original data folder\n",
    "##"
   ]
  },
  {
   "cell_type": "markdown",
   "id": "238a032e-a050-4dce-be99-6cca85377de0",
   "metadata": {},
   "source": [
    "#### Data Augmentation"
   ]
  },
  {
   "cell_type": "code",
   "execution_count": 3,
   "id": "eb5d3881-f397-46a4-b124-9db6025df48e",
   "metadata": {
    "id": "eb5d3881-f397-46a4-b124-9db6025df48e"
   },
   "outputs": [],
   "source": [
    "transform = transforms.Compose([\n",
    "    transforms.RandomResizedCrop(224),\n",
    "    transforms.RandomHorizontalFlip(),\n",
    "    transforms.RandomVerticalFlip(),\n",
    "    transforms.RandomRotation(30),\n",
    "    transforms.ColorJitter(brightness=0.2, contrast=0.2, saturation=0.2, hue=0.2),\n",
    "    transforms.RandomAffine(degrees=0, translate=(0.1, 0.1)),\n",
    "    transforms.ToTensor(),\n",
    "])\n",
    "\n",
    "simple_transform = transforms.Compose([\n",
    "    transforms.Resize(224),\n",
    "    transforms.ToTensor()\n",
    "])"
   ]
  },
  {
   "cell_type": "code",
   "execution_count": 4,
   "id": "03948039-5c06-4396-86d3-ab6db129b0a6",
   "metadata": {
    "id": "03948039-5c06-4396-86d3-ab6db129b0a6"
   },
   "outputs": [],
   "source": [
    "train_dataset = datasets.ImageFolder(root=train_folder, transform=transform)\n",
    "val_dataset = datasets.ImageFolder(root=val_folder, transform=simple_transform)\n",
    "test_dataset = datasets.ImageFolder(root=test_folder, transform=simple_transform)"
   ]
  },
  {
   "cell_type": "code",
   "execution_count": 5,
   "id": "02fcb91e-4273-4aab-a80e-452a445f2f3b",
   "metadata": {
    "colab": {
     "base_uri": "https://localhost:8080/"
    },
    "id": "02fcb91e-4273-4aab-a80e-452a445f2f3b",
    "outputId": "ca631a01-96b1-4f1d-c056-c101f6c1efb2"
   },
   "outputs": [
    {
     "name": "stdout",
     "output_type": "stream",
     "text": [
      "['background', 'frost']\n",
      "['background', 'frost']\n",
      "['background', 'frost']\n"
     ]
    }
   ],
   "source": [
    "print(train_dataset.classes)\n",
    "print(test_dataset.classes)\n",
    "print(val_dataset.classes)"
   ]
  },
  {
   "cell_type": "code",
   "execution_count": 6,
   "id": "be13c8f0-a0bb-41ea-a6e0-8659abb4256a",
   "metadata": {
    "id": "be13c8f0-a0bb-41ea-a6e0-8659abb4256a"
   },
   "outputs": [],
   "source": [
    "trainloader = DataLoader(train_dataset, batch_size=16, shuffle=True)\n",
    "validloader = DataLoader(val_dataset, batch_size=16, shuffle=True)\n",
    "testloader = DataLoader(test_dataset, batch_size=16, shuffle=True)"
   ]
  },
  {
   "cell_type": "code",
   "execution_count": 7,
   "id": "ebca37dc-492f-4abc-9f0f-df3a8dc6c1ed",
   "metadata": {},
   "outputs": [],
   "source": [
    "result_summary = {}"
   ]
  },
  {
   "cell_type": "markdown",
   "id": "aa9324da-fd1f-41b4-8b73-45c74efbb548",
   "metadata": {
    "id": "aa9324da-fd1f-41b4-8b73-45c74efbb548"
   },
   "source": [
    "### Training CNN + MLP model"
   ]
  },
  {
   "cell_type": "code",
   "execution_count": 15,
   "id": "40739473-0705-49e5-95ec-e85f7db4a0b3",
   "metadata": {
    "id": "40739473-0705-49e5-95ec-e85f7db4a0b3"
   },
   "outputs": [],
   "source": [
    "class Image_Classifier(nn.Module):\n",
    "    def __init__(self):\n",
    "        super().__init__()\n",
    "        self.model = nn.Sequential(\n",
    "            nn.Conv2d(3, 32, (3,3)),\n",
    "            nn.BatchNorm2d(32),\n",
    "            nn.ReLU(),\n",
    "            nn.Conv2d(32, 64, (3,3)),\n",
    "            nn.BatchNorm2d(64),\n",
    "            nn.ReLU(),\n",
    "            nn.Conv2d(64, 64, (3,3)),\n",
    "            nn.BatchNorm2d(64),\n",
    "            nn.ReLU(),\n",
    "            nn.Flatten(),\n",
    "            nn.Dropout(0.3),\n",
    "            nn.Linear(3041536,2),\n",
    "        )\n",
    "\n",
    "    def forward(self, x):\n",
    "        return self.model(x)"
   ]
  },
  {
   "cell_type": "markdown",
   "id": "a32acfd0-ea1d-4769-b4fd-4d89b482baaa",
   "metadata": {},
   "source": [
    "#### Not explicitly adding a softmax output as the CrossEntropy Loss is combination of LogSoftmax and NLLoss in Pytorch. So there is not explicit need for a softmax output at last layer. So not adding it the networks. It still gives the similar output.\n",
    "##"
   ]
  },
  {
   "cell_type": "code",
   "execution_count": 16,
   "id": "b72426ab-ab01-460e-a255-3a2247292745",
   "metadata": {
    "id": "b72426ab-ab01-460e-a255-3a2247292745"
   },
   "outputs": [],
   "source": [
    "clf = Image_Classifier().to('cuda')\n",
    "opt = Adam(clf.parameters(), lr=0.001,weight_decay=0.0001)\n",
    "loss_fn = nn.CrossEntropyLoss()"
   ]
  },
  {
   "cell_type": "code",
   "execution_count": 16,
   "id": "177a511f-fc2f-4e88-9eae-c65185d54ba7",
   "metadata": {
    "colab": {
     "base_uri": "https://localhost:8080/"
    },
    "id": "177a511f-fc2f-4e88-9eae-c65185d54ba7",
    "outputId": "f1ed2a95-965d-448c-91ea-0426b998ccf5"
   },
   "outputs": [
    {
     "metadata": {
      "tags": null
     },
     "name": "stderr",
     "output_type": "stream",
     "text": [
      "  3%|▎         | 1/35 [03:34<2:01:29, 214.40s/it]"
     ]
    },
    {
     "metadata": {
      "tags": null
     },
     "name": "stdout",
     "output_type": "stream",
     "text": [
      "Epoch 0 training loss =22.728178024291992 Validation loss=25.820358276367188\n"
     ]
    },
    {
     "metadata": {
      "tags": null
     },
     "name": "stderr",
     "output_type": "stream",
     "text": [
      "\r",
      "  6%|▌         | 2/35 [07:02<1:55:45, 210.46s/it]"
     ]
    },
    {
     "metadata": {
      "tags": null
     },
     "name": "stdout",
     "output_type": "stream",
     "text": [
      "Epoch 1 training loss =6.16980504989624 Validation loss=0.8590730428695679\n"
     ]
    },
    {
     "metadata": {
      "tags": null
     },
     "name": "stderr",
     "output_type": "stream",
     "text": [
      "\r",
      "  9%|▊         | 3/35 [10:26<1:50:41, 207.56s/it]"
     ]
    },
    {
     "metadata": {
      "tags": null
     },
     "name": "stdout",
     "output_type": "stream",
     "text": [
      "Epoch 2 training loss =1.080465316772461 Validation loss=1.359681487083435\n"
     ]
    },
    {
     "metadata": {
      "tags": null
     },
     "name": "stderr",
     "output_type": "stream",
     "text": [
      "\r",
      " 11%|█▏        | 4/35 [13:51<1:46:47, 206.68s/it]"
     ]
    },
    {
     "metadata": {
      "tags": null
     },
     "name": "stdout",
     "output_type": "stream",
     "text": [
      "Epoch 3 training loss =0.5886365175247192 Validation loss=0.5751001834869385\n"
     ]
    },
    {
     "metadata": {
      "tags": null
     },
     "name": "stderr",
     "output_type": "stream",
     "text": [
      "\r",
      " 14%|█▍        | 5/35 [17:20<1:43:43, 207.45s/it]"
     ]
    },
    {
     "metadata": {
      "tags": null
     },
     "name": "stdout",
     "output_type": "stream",
     "text": [
      "Epoch 4 training loss =0.4674149751663208 Validation loss=0.8676242232322693\n"
     ]
    },
    {
     "metadata": {
      "tags": null
     },
     "name": "stderr",
     "output_type": "stream",
     "text": [
      "\r",
      " 17%|█▋        | 6/35 [20:47<1:40:17, 207.50s/it]"
     ]
    },
    {
     "metadata": {
      "tags": null
     },
     "name": "stdout",
     "output_type": "stream",
     "text": [
      "Epoch 5 training loss =0.3622831702232361 Validation loss=0.9548037052154541\n"
     ]
    },
    {
     "metadata": {
      "tags": null
     },
     "name": "stderr",
     "output_type": "stream",
     "text": [
      "\r",
      " 20%|██        | 7/35 [24:11<1:36:15, 206.26s/it]"
     ]
    },
    {
     "metadata": {
      "tags": null
     },
     "name": "stdout",
     "output_type": "stream",
     "text": [
      "Epoch 6 training loss =0.3418155908584595 Validation loss=0.3986634314060211\n"
     ]
    },
    {
     "metadata": {
      "tags": null
     },
     "name": "stderr",
     "output_type": "stream",
     "text": [
      "\r",
      " 23%|██▎       | 8/35 [27:37<1:32:45, 206.14s/it]"
     ]
    },
    {
     "metadata": {
      "tags": null
     },
     "name": "stdout",
     "output_type": "stream",
     "text": [
      "Epoch 7 training loss =0.32573872804641724 Validation loss=0.8280102610588074\n"
     ]
    },
    {
     "metadata": {
      "tags": null
     },
     "name": "stderr",
     "output_type": "stream",
     "text": [
      "\r",
      " 26%|██▌       | 9/35 [31:01<1:29:03, 205.52s/it]"
     ]
    },
    {
     "metadata": {
      "tags": null
     },
     "name": "stdout",
     "output_type": "stream",
     "text": [
      "Epoch 8 training loss =0.34662818908691406 Validation loss=1.5951366424560547\n"
     ]
    },
    {
     "metadata": {
      "tags": null
     },
     "name": "stderr",
     "output_type": "stream",
     "text": [
      "\r",
      " 29%|██▊       | 10/35 [34:27<1:25:40, 205.61s/it]"
     ]
    },
    {
     "metadata": {
      "tags": null
     },
     "name": "stdout",
     "output_type": "stream",
     "text": [
      "Epoch 9 training loss =1.0967775583267212 Validation loss=0.38589251041412354\n"
     ]
    },
    {
     "metadata": {
      "tags": null
     },
     "name": "stderr",
     "output_type": "stream",
     "text": [
      "\r",
      " 31%|███▏      | 11/35 [37:51<1:22:03, 205.13s/it]"
     ]
    },
    {
     "metadata": {
      "tags": null
     },
     "name": "stdout",
     "output_type": "stream",
     "text": [
      "Epoch 10 training loss =0.4052852988243103 Validation loss=0.5560752153396606\n"
     ]
    },
    {
     "metadata": {
      "tags": null
     },
     "name": "stderr",
     "output_type": "stream",
     "text": [
      "\r",
      " 34%|███▍      | 12/35 [41:14<1:18:23, 204.50s/it]"
     ]
    },
    {
     "metadata": {
      "tags": null
     },
     "name": "stdout",
     "output_type": "stream",
     "text": [
      "Epoch 11 training loss =0.40697091817855835 Validation loss=0.5558651685714722\n"
     ]
    },
    {
     "metadata": {
      "tags": null
     },
     "name": "stderr",
     "output_type": "stream",
     "text": [
      "\r",
      " 37%|███▋      | 13/35 [44:39<1:14:59, 204.54s/it]"
     ]
    },
    {
     "metadata": {
      "tags": null
     },
     "name": "stdout",
     "output_type": "stream",
     "text": [
      "Epoch 12 training loss =0.36883991956710815 Validation loss=0.2571433186531067\n"
     ]
    },
    {
     "metadata": {
      "tags": null
     },
     "name": "stderr",
     "output_type": "stream",
     "text": [
      "\r",
      " 40%|████      | 14/35 [48:02<1:11:24, 204.02s/it]"
     ]
    },
    {
     "metadata": {
      "tags": null
     },
     "name": "stdout",
     "output_type": "stream",
     "text": [
      "Epoch 13 training loss =0.3605382740497589 Validation loss=0.3772037625312805\n"
     ]
    },
    {
     "metadata": {
      "tags": null
     },
     "name": "stderr",
     "output_type": "stream",
     "text": [
      "\r",
      " 43%|████▎     | 15/35 [51:28<1:08:17, 204.86s/it]"
     ]
    },
    {
     "metadata": {
      "tags": null
     },
     "name": "stdout",
     "output_type": "stream",
     "text": [
      "Epoch 14 training loss =0.37863296270370483 Validation loss=0.9001597762107849\n"
     ]
    },
    {
     "metadata": {
      "tags": null
     },
     "name": "stderr",
     "output_type": "stream",
     "text": [
      "\r",
      " 46%|████▌     | 16/35 [54:53<1:04:50, 204.78s/it]"
     ]
    },
    {
     "metadata": {
      "tags": null
     },
     "name": "stdout",
     "output_type": "stream",
     "text": [
      "Epoch 15 training loss =0.34442585706710815 Validation loss=0.6518389582633972\n"
     ]
    },
    {
     "metadata": {
      "tags": null
     },
     "name": "stderr",
     "output_type": "stream",
     "text": [
      "\r",
      " 49%|████▊     | 17/35 [58:19<1:01:35, 205.30s/it]"
     ]
    },
    {
     "metadata": {
      "tags": null
     },
     "name": "stdout",
     "output_type": "stream",
     "text": [
      "Epoch 16 training loss =0.3420998156070709 Validation loss=0.6497235894203186\n"
     ]
    },
    {
     "metadata": {
      "tags": null
     },
     "name": "stderr",
     "output_type": "stream",
     "text": [
      "\r",
      " 51%|█████▏    | 18/35 [1:01:48<58:26, 206.29s/it]"
     ]
    },
    {
     "metadata": {
      "tags": null
     },
     "name": "stdout",
     "output_type": "stream",
     "text": [
      "Epoch 17 training loss =0.3182927370071411 Validation loss=0.48157697916030884\n"
     ]
    },
    {
     "metadata": {
      "tags": null
     },
     "name": "stderr",
     "output_type": "stream",
     "text": [
      "\r",
      " 54%|█████▍    | 19/35 [1:05:18<55:15, 207.24s/it]"
     ]
    },
    {
     "metadata": {
      "tags": null
     },
     "name": "stdout",
     "output_type": "stream",
     "text": [
      "Epoch 18 training loss =0.31755751371383667 Validation loss=0.3560454547405243\n"
     ]
    },
    {
     "metadata": {
      "tags": null
     },
     "name": "stderr",
     "output_type": "stream",
     "text": [
      "\r",
      " 57%|█████▋    | 20/35 [1:08:45<51:50, 207.35s/it]"
     ]
    },
    {
     "metadata": {
      "tags": null
     },
     "name": "stdout",
     "output_type": "stream",
     "text": [
      "Epoch 19 training loss =0.30294790863990784 Validation loss=0.9997870326042175\n"
     ]
    },
    {
     "metadata": {
      "tags": null
     },
     "name": "stderr",
     "output_type": "stream",
     "text": [
      "\r",
      " 60%|██████    | 21/35 [1:12:11<48:18, 207.05s/it]"
     ]
    },
    {
     "metadata": {
      "tags": null
     },
     "name": "stdout",
     "output_type": "stream",
     "text": [
      "Epoch 20 training loss =0.2918359935283661 Validation loss=0.46175530552864075\n"
     ]
    },
    {
     "metadata": {
      "tags": null
     },
     "name": "stderr",
     "output_type": "stream",
     "text": [
      "\r",
      " 63%|██████▎   | 22/35 [1:15:34<44:33, 205.63s/it]"
     ]
    },
    {
     "metadata": {
      "tags": null
     },
     "name": "stdout",
     "output_type": "stream",
     "text": [
      "Epoch 21 training loss =0.27484679222106934 Validation loss=0.49589425325393677\n",
      "Breaking due to early stopping\n"
     ]
    },
    {
     "metadata": {
      "tags": null
     },
     "name": "stderr",
     "output_type": "stream",
     "text": [
      "\r",
      " 66%|██████▌   | 23/35 [1:18:57<40:57, 204.78s/it]"
     ]
    },
    {
     "metadata": {
      "tags": null
     },
     "name": "stdout",
     "output_type": "stream",
     "text": [
      "Epoch 22 training loss =0.2732403576374054 Validation loss=0.29021766781806946\n"
     ]
    },
    {
     "name": "stderr",
     "output_type": "stream",
     "text": [
      "\r",
      " 69%|██████▊   | 24/35 [1:22:11<36:57, 201.62s/it]"
     ]
    },
    {
     "name": "stdout",
     "output_type": "stream",
     "text": [
      "Epoch 23 training loss =0.24984203279018402 Validation loss=0.312375009059906\n",
      "Breaking due to early stopping\n"
     ]
    },
    {
     "name": "stderr",
     "output_type": "stream",
     "text": [
      "\r",
      " 69%|██████▊   | 24/35 [1:25:24<39:08, 213.53s/it]"
     ]
    },
    {
     "name": "stdout",
     "output_type": "stream",
     "text": [
      "Epoch 24 training loss =0.2591383755207062 Validation loss=0.48659226298332214\n",
      "Breaking due to early stopping\n"
     ]
    },
    {
     "name": "stderr",
     "output_type": "stream",
     "text": [
      "\n"
     ]
    }
   ],
   "source": [
    "train_loss_list = []\n",
    "val_loss_list = []\n",
    "best_vloss = 100000\n",
    "before_vloss = 100000\n",
    "patience_param = 0\n",
    "\n",
    "for epoch in tqdm(range(35)):\n",
    "    # Training Phase\n",
    "    clf.train(True)\n",
    "    running_trloss = 0.0\n",
    "    for batch in trainloader:\n",
    "        X_train, y_train = batch\n",
    "        X_train, y_train = X_train.to('cuda'), y_train.to('cuda')\n",
    "        yhat = clf(X_train)\n",
    "        y_loss = loss_fn(yhat, y_train)\n",
    "        running_trloss += y_loss\n",
    "        opt.zero_grad()\n",
    "        y_loss.backward()\n",
    "        opt.step()\n",
    "\n",
    "    running_trloss = running_trloss/len(trainloader)\n",
    "    train_loss_list.append(running_trloss.item())\n",
    "\n",
    "    running_vloss = 0.0\n",
    "    # Validation Phase\n",
    "    clf.eval()\n",
    "    with torch.no_grad():\n",
    "        for vbatch in validloader:\n",
    "            X_val, y_val = vbatch\n",
    "            X_val, y_val = X_val.to('cuda'), y_val.to('cuda')\n",
    "            yhat_val = clf(X_val)\n",
    "            y_loss_val = loss_fn(yhat_val, y_val)\n",
    "            running_vloss += y_loss_val\n",
    "\n",
    "    running_vloss = running_vloss/len(validloader)\n",
    "    val_loss_list.append(running_vloss.item())\n",
    "\n",
    "    print(f\"Epoch {epoch} training loss ={running_trloss} Validation loss={running_vloss}\")\n",
    "\n",
    "    if best_vloss > running_vloss:\n",
    "        best_vloss = running_vloss\n",
    "        torch.save(clf, 'best_clf.pt')\n",
    "\n",
    "    if running_vloss - before_vloss > 0.2 and epoch>=20:\n",
    "        print(\"Breaking due to early stopping\")\n",
    "        break\n",
    "    elif before_vloss - running_vloss <= 0.000001 and epoch>=20 :\n",
    "        print(\"Breaking due to early stopping\")\n",
    "        patience_param += 1\n",
    "        if patience_param == 2:\n",
    "            break\n",
    "    else:\n",
    "        patience_param = 0\n",
    "        before_vloss = running_vloss"
   ]
  },
  {
   "cell_type": "code",
   "execution_count": 10,
   "id": "6985e26c-d1f7-4881-a183-e67ec60ffd58",
   "metadata": {
    "id": "6985e26c-d1f7-4881-a183-e67ec60ffd58"
   },
   "outputs": [],
   "source": [
    "def create_train_val_loss_map(tr_loss_list, vl_loss_list):\n",
    "    plt.plot(range(1, len(train_loss_list) + 1), tr_loss_list, color=\"red\",label=\"Training Loss\",marker=\"o\")\n",
    "    plt.plot(range(1, len(train_loss_list) + 1), vl_loss_list, color=\"blue\",label=\"Validation Loss\",marker=\"o\")\n",
    "    plt.xlabel(\"Epochs\")\n",
    "    plt.ylabel(\"Loss Value\")\n",
    "    plt.title(\"Training Loss and Validation Loss\")\n",
    "    plt.legend()\n",
    "    plt.show()"
   ]
  },
  {
   "cell_type": "markdown",
   "id": "a834582b-9b43-4deb-98b8-0a1d5b756354",
   "metadata": {},
   "source": [
    "#### Training vs Validation Loss for CNN + MLP"
   ]
  },
  {
   "cell_type": "code",
   "execution_count": 18,
   "id": "54a94d4e-883c-413e-ade5-a380d6865402",
   "metadata": {
    "colab": {
     "base_uri": "https://localhost:8080/",
     "height": 472
    },
    "id": "54a94d4e-883c-413e-ade5-a380d6865402",
    "outputId": "15c9e3d8-dbfa-4076-9f8c-c1a8b7ee75a4"
   },
   "outputs": [
    {
     "data": {
      "image/png": "[encoded data removed]",
      "text/plain": [
       "<Figure size 640x480 with 1 Axes>"
      ]
     },
     "metadata": {},
     "output_type": "display_data"
    }
   ],
   "source": [
    "create_train_val_loss_map(train_loss_list, val_loss_list)"
   ]
  },
  {
   "cell_type": "code",
   "execution_count": 17,
   "id": "79c3af61-10d6-4f29-a025-007921a2a218",
   "metadata": {
    "id": "79c3af61-10d6-4f29-a025-007921a2a218"
   },
   "outputs": [],
   "source": [
    "def test_metrics(filename, nm):\n",
    "    model = torch.load(filename)\n",
    "    model = model.to('cuda')\n",
    "    y_train_list = []\n",
    "    y_test_list = []\n",
    "    y_val_list = []\n",
    "    y_train_pred_list = []\n",
    "    y_test_pred_list = []\n",
    "    y_val_pred_list = []\n",
    "    model.eval()\n",
    "\n",
    "    with torch.no_grad():\n",
    "        for vbatch in validloader:\n",
    "            X_val, y_val = vbatch\n",
    "            X_val, y_val = X_val.to('cuda'), y_val.to('cuda')\n",
    "            yhat_val = model(X_val).argmax(dim=1).cpu().numpy()\n",
    "            y_val_pred_list.extend(yhat_val)\n",
    "            y_val_list.extend(y_val.cpu().numpy())\n",
    "\n",
    "        for trbatch in trainloader:\n",
    "            X_train, y_train = trbatch\n",
    "            X_train, y_train = X_train.to('cuda'), y_train.to('cuda')\n",
    "            yhat_train = model(X_train).argmax(dim=1).cpu().numpy()\n",
    "            y_train_pred_list.extend(yhat_train)\n",
    "            y_train_list.extend(y_train.cpu().numpy())\n",
    "\n",
    "        for tsbatch in testloader:\n",
    "            X_test, y_test = tsbatch\n",
    "            X_test, y_test = X_test.to('cuda'), y_test.to('cuda')\n",
    "            yhat_test = model(X_test).argmax(dim=1).cpu().numpy()\n",
    "            y_test_pred_list.extend(yhat_test)\n",
    "            y_test_list.extend(y_test.cpu().numpy())\n",
    "\n",
    "\n",
    "    y_val_pred_list = np.array(y_val_pred_list)\n",
    "    y_val_list = np.array(y_val_list)\n",
    "\n",
    "    y_train_pred_list = np.array(y_train_pred_list)\n",
    "    y_train_list = np.array(y_train_list)\n",
    "\n",
    "    y_test_pred_list = np.array(y_test_pred_list)\n",
    "    y_test_list = np.array(y_test_list)\n",
    "\n",
    "    res_data = []\n",
    "\n",
    "    print(\"Training data\")\n",
    "    accuracy = accuracy_score(y_train_list, y_train_pred_list)\n",
    "    precision = precision_score(y_train_list, y_train_pred_list)\n",
    "    recall = recall_score(y_train_list, y_train_pred_list)\n",
    "    f1s = f1_score(y_train_list, y_train_pred_list)\n",
    "    temp_data = [accuracy, precision, recall, f1s]\n",
    "    res_data.extend(temp_data)\n",
    "    \n",
    "    print(f\"Accuracy: {accuracy:.4f}\")\n",
    "    print(f\"Precision: {precision:.4f}\")\n",
    "    print(f\"Recall: {recall:.4f}\")\n",
    "    print(f\"F1 Score: {f1s:.4f}\")\n",
    "    print(\"\")\n",
    "\n",
    "    print(\"Validation data\")\n",
    "    accuracy = accuracy_score(y_val_list, y_val_pred_list)\n",
    "    precision = precision_score(y_val_list, y_val_pred_list)\n",
    "    recall = recall_score(y_val_list, y_val_pred_list)\n",
    "    f1s = f1_score(y_val_list, y_val_pred_list)\n",
    "    temp_data = [accuracy, precision, recall, f1s]\n",
    "    res_data.extend(temp_data)\n",
    "    \n",
    "    print(f\"Accuracy: {accuracy:.4f}\")\n",
    "    print(f\"Precision: {precision:.4f}\")\n",
    "    print(f\"Recall: {recall:.4f}\")\n",
    "    print(f\"F1 Score: {f1s:.4f}\")\n",
    "    print(\"\")\n",
    "\n",
    "    print(\"Testing data\")\n",
    "    accuracy = accuracy_score(y_test_list, y_test_pred_list)\n",
    "    precision = precision_score(y_test_list, y_test_pred_list)\n",
    "    recall = recall_score(y_test_list, y_test_pred_list)\n",
    "    f1s = f1_score(y_test_list, y_test_pred_list)\n",
    "    temp_data = [accuracy, precision, recall, f1s]\n",
    "    res_data.extend(temp_data)\n",
    "    \n",
    "    print(f\"Accuracy: {accuracy:.4f}\")\n",
    "    print(f\"Precision: {precision:.4f}\")\n",
    "    print(f\"Recall: {recall:.4f}\")\n",
    "    print(f\"F1 Score: {f1s:.4f}\")\n",
    "    print(\"\")\n",
    "\n",
    "    result_summary[nm] = res_data"
   ]
  },
  {
   "cell_type": "markdown",
   "id": "3a32c737-fc15-4d51-bb91-a303be839e13",
   "metadata": {},
   "source": [
    "### Precision, Recall, and F1 score for CNN + MLP"
   ]
  },
  {
   "cell_type": "code",
   "execution_count": 22,
   "id": "c8f26313-ff3f-4610-85b7-ac2750701a37",
   "metadata": {},
   "outputs": [
    {
     "name": "stdout",
     "output_type": "stream",
     "text": [
      "Training data\n",
      "Accuracy: 0.8296\n",
      "Precision: 0.9462\n",
      "Recall: 0.7826\n",
      "F1 Score: 0.8567\n",
      "\n",
      "Validation data\n",
      "Accuracy: 0.8721\n",
      "Precision: 0.6657\n",
      "Recall: 0.8963\n",
      "F1 Score: 0.7640\n",
      "\n",
      "Testing data\n",
      "Accuracy: 0.6740\n",
      "Precision: 0.7997\n",
      "Recall: 0.7336\n",
      "F1 Score: 0.7652\n",
      "\n"
     ]
    }
   ],
   "source": [
    "test_metrics(\"./best_clf.pt\",\"CNN MLP Model\")"
   ]
  },
  {
   "cell_type": "markdown",
   "id": "971c2eca-d738-4f53-a546-db62efdf6285",
   "metadata": {},
   "source": [
    "###"
   ]
  },
  {
   "cell_type": "markdown",
   "id": "0e9ac583-ddc0-440d-a09d-55732cc29e32",
   "metadata": {},
   "source": [
    "## Transfer Learning "
   ]
  },
  {
   "cell_type": "markdown",
   "id": "ebfaea0f-3523-49b1-ab2a-5b06b815798f",
   "metadata": {},
   "source": [
    "### EfficientNetB0"
   ]
  },
  {
   "cell_type": "code",
   "execution_count": 20,
   "id": "93b326c4-1784-4870-8091-f82e3c62f9b3",
   "metadata": {
    "id": "93b326c4-1784-4870-8091-f82e3c62f9b3"
   },
   "outputs": [],
   "source": [
    "class EfficientNetB0_Classifier(nn.Module):\n",
    "    def __init__(self):\n",
    "        super().__init__()\n",
    "        self.model = EfficientNet.from_pretrained('efficientnet-b0')\n",
    "\n",
    "        # Freeze all layers\n",
    "        for param in self.model.parameters():\n",
    "            param.requires_grad = False\n",
    "\n",
    "        # Unfreeze last layer\n",
    "        for param in self.model._fc.parameters():\n",
    "        #for param in self.model.fc.parameters():\n",
    "            param.requires_grad = True\n",
    "\n",
    "        self.last_layer = nn.Sequential(\n",
    "            nn.BatchNorm1d(1000),\n",
    "            nn.ReLU(),\n",
    "            nn.Dropout(0.3),\n",
    "            nn.Linear(1000,2),\n",
    "        )\n",
    "\n",
    "\n",
    "    def forward(self, x):\n",
    "        x = self.model(x)\n",
    "        x = x.view(x.size(0),-1)\n",
    "        x = self.last_layer(x)\n",
    "        return x"
   ]
  },
  {
   "cell_type": "code",
   "execution_count": 21,
   "id": "cf95b0af-42c2-4171-a657-e4669fd1ad0c",
   "metadata": {
    "id": "cf95b0af-42c2-4171-a657-e4669fd1ad0c"
   },
   "outputs": [
    {
     "name": "stdout",
     "output_type": "stream",
     "text": [
      "Loaded pretrained weights for efficientnet-b0\n"
     ]
    }
   ],
   "source": [
    "device = torch.device(\"cuda\")\n",
    "clf_eff = EfficientNetB0_Classifier().to(device)\n",
    "opt = Adam(clf_eff.parameters(), lr=0.001,weight_decay=0.0001)\n",
    "loss_fn = nn.CrossEntropyLoss()"
   ]
  },
  {
   "cell_type": "code",
   "execution_count": 26,
   "id": "efcef66b-97db-4fb2-986b-0ca3b03305e9",
   "metadata": {
    "id": "efcef66b-97db-4fb2-986b-0ca3b03305e9"
   },
   "outputs": [
    {
     "name": "stderr",
     "output_type": "stream",
     "text": [
      "  0%|                                                                                           | 0/15 [00:00<?, ?it/s]"
     ]
    },
    {
     "name": "stdout",
     "output_type": "stream",
     "text": [
      "Epoch 0 training loss =0.32974812388420105 Validation loss=0.8320053219795227\n"
     ]
    },
    {
     "name": "stderr",
     "output_type": "stream",
     "text": [
      " 13%|██████████▉                                                                       | 2/15 [09:12<55:56, 258.18s/it]"
     ]
    },
    {
     "name": "stdout",
     "output_type": "stream",
     "text": [
      "Epoch 1 training loss =0.31439918279647827 Validation loss=0.8473973870277405\n"
     ]
    },
    {
     "name": "stderr",
     "output_type": "stream",
     "text": [
      " 20%|████████████████▍                                                                 | 3/15 [12:06<43:56, 219.75s/it]"
     ]
    },
    {
     "name": "stdout",
     "output_type": "stream",
     "text": [
      "Epoch 2 training loss =0.3103127181529999 Validation loss=0.9162566661834717\n"
     ]
    },
    {
     "name": "stderr",
     "output_type": "stream",
     "text": [
      " 27%|█████████████████████▊                                                            | 4/15 [15:03<37:14, 203.12s/it]"
     ]
    },
    {
     "name": "stdout",
     "output_type": "stream",
     "text": [
      "Epoch 3 training loss =0.29557380080223083 Validation loss=0.8691531419754028\n"
     ]
    },
    {
     "name": "stderr",
     "output_type": "stream",
     "text": [
      " 33%|███████████████████████████▎                                                      | 5/15 [18:01<32:18, 193.83s/it]"
     ]
    },
    {
     "name": "stdout",
     "output_type": "stream",
     "text": [
      "Epoch 4 training loss =0.29109635949134827 Validation loss=0.7598066329956055\n"
     ]
    },
    {
     "name": "stderr",
     "output_type": "stream",
     "text": [
      " 40%|████████████████████████████████▊                                                 | 6/15 [20:58<28:13, 188.17s/it]"
     ]
    },
    {
     "name": "stdout",
     "output_type": "stream",
     "text": [
      "Epoch 5 training loss =0.2924206554889679 Validation loss=0.7296103239059448\n"
     ]
    },
    {
     "name": "stderr",
     "output_type": "stream",
     "text": [
      " 47%|██████████████████████████████████████▎                                           | 7/15 [23:55<24:35, 184.48s/it]"
     ]
    },
    {
     "name": "stdout",
     "output_type": "stream",
     "text": [
      "Epoch 6 training loss =0.2837289869785309 Validation loss=0.973906397819519\n"
     ]
    },
    {
     "name": "stderr",
     "output_type": "stream",
     "text": [
      " 53%|███████████████████████████████████████████▋                                      | 8/15 [26:51<21:12, 181.74s/it]"
     ]
    },
    {
     "name": "stdout",
     "output_type": "stream",
     "text": [
      "Epoch 7 training loss =0.2820296585559845 Validation loss=1.0273648500442505\n"
     ]
    },
    {
     "name": "stderr",
     "output_type": "stream",
     "text": [
      " 60%|█████████████████████████████████████████████████▏                                | 9/15 [29:51<18:07, 181.32s/it]"
     ]
    },
    {
     "name": "stdout",
     "output_type": "stream",
     "text": [
      "Epoch 8 training loss =0.28516730666160583 Validation loss=1.0268579721450806\n"
     ]
    },
    {
     "name": "stderr",
     "output_type": "stream",
     "text": [
      " 67%|██████████████████████████████████████████████████████                           | 10/15 [32:48<14:59, 179.87s/it]"
     ]
    },
    {
     "name": "stdout",
     "output_type": "stream",
     "text": [
      "Epoch 9 training loss =0.28082847595214844 Validation loss=0.8381701707839966\n"
     ]
    },
    {
     "name": "stderr",
     "output_type": "stream",
     "text": [
      " 73%|███████████████████████████████████████████████████████████▍                     | 11/15 [35:46<11:57, 179.42s/it]"
     ]
    },
    {
     "name": "stdout",
     "output_type": "stream",
     "text": [
      "Epoch 10 training loss =0.28172579407691956 Validation loss=0.6748886108398438\n"
     ]
    },
    {
     "name": "stderr",
     "output_type": "stream",
     "text": [
      " 80%|████████████████████████████████████████████████████████████████▊                | 12/15 [38:43<08:55, 178.61s/it]"
     ]
    },
    {
     "name": "stdout",
     "output_type": "stream",
     "text": [
      "Epoch 11 training loss =0.2847151458263397 Validation loss=0.7898641228675842\n"
     ]
    },
    {
     "name": "stderr",
     "output_type": "stream",
     "text": [
      " 87%|██████████████████████████████████████████████████████████████████████▏          | 13/15 [41:40<05:56, 178.00s/it]"
     ]
    },
    {
     "name": "stdout",
     "output_type": "stream",
     "text": [
      "Epoch 12 training loss =0.2789503037929535 Validation loss=1.147445559501648\n"
     ]
    },
    {
     "name": "stderr",
     "output_type": "stream",
     "text": [
      " 93%|███████████████████████████████████████████████████████████████████████████▌     | 14/15 [44:38<02:58, 178.12s/it]"
     ]
    },
    {
     "name": "stdout",
     "output_type": "stream",
     "text": [
      "Epoch 13 training loss =0.27403828501701355 Validation loss=1.044548749923706\n"
     ]
    },
    {
     "name": "stderr",
     "output_type": "stream",
     "text": [
      "100%|█████████████████████████████████████████████████████████████████████████████████| 15/15 [47:37<00:00, 190.51s/it]"
     ]
    },
    {
     "name": "stdout",
     "output_type": "stream",
     "text": [
      "Epoch 14 training loss =0.27964070439338684 Validation loss=0.8828701376914978\n"
     ]
    },
    {
     "name": "stderr",
     "output_type": "stream",
     "text": [
      "\n"
     ]
    }
   ],
   "source": [
    "train_loss_list = []\n",
    "val_loss_list = []\n",
    "best_vloss = 100000\n",
    "before_vloss = 100000\n",
    "patience_param = 0\n",
    "\n",
    "for epoch in tqdm(range(15)):\n",
    "    # Training Phase\n",
    "    clf_eff.train(True)\n",
    "    running_trloss = 0.0\n",
    "    for batch in trainloader:\n",
    "        X_train, y_train = batch\n",
    "        X_train, y_train = X_train.to(device), y_train.to(device)\n",
    "        yhat = clf_eff(X_train)\n",
    "        y_loss = loss_fn(yhat, y_train)\n",
    "        running_trloss += y_loss\n",
    "        opt.zero_grad()\n",
    "        y_loss.backward()\n",
    "        opt.step()\n",
    "\n",
    "    running_trloss = running_trloss/len(trainloader)\n",
    "    train_loss_list.append(running_trloss.item())\n",
    "\n",
    "    running_vloss = 0.0\n",
    "    # Validation Phase\n",
    "    clf_eff.eval()\n",
    "    with torch.no_grad():\n",
    "        for vbatch in validloader:\n",
    "            X_val, y_val = vbatch\n",
    "            X_val, y_val = X_val.to(device), y_val.to(device)\n",
    "            yhat_val = clf_eff(X_val)\n",
    "            y_loss_val = loss_fn(yhat_val, y_val)\n",
    "            running_vloss += y_loss_val\n",
    "\n",
    "    running_vloss = running_vloss/len(validloader)\n",
    "    val_loss_list.append(running_vloss.item())\n",
    "\n",
    "    print(f\"Epoch {epoch} training loss ={running_trloss} Validation loss={running_vloss}\")\n",
    "\n",
    "    if best_vloss > running_vloss:\n",
    "        best_vloss = running_vloss\n",
    "        torch.save(clf_eff, 'best_effb0_clf.pt')\n",
    "\n",
    "    if running_vloss - before_vloss > 0.2 and epoch>=10:\n",
    "        print(\"Breaking due to early stopping\")\n",
    "        break\n",
    "    elif before_vloss - running_vloss <= 0.000001 and epoch>=10 :\n",
    "        print(\"Breaking due to early stopping\")\n",
    "        patience_param += 1\n",
    "        if patience_param == 2:\n",
    "            break\n",
    "    else:\n",
    "        patience_param = 0\n",
    "        before_vloss = running_vloss"
   ]
  },
  {
   "cell_type": "markdown",
   "id": "1df3c3fe-7d38-4418-9d4b-211f1e760aa0",
   "metadata": {},
   "source": [
    "### Training vs Validation Loss for EfficientNetB0"
   ]
  },
  {
   "cell_type": "code",
   "execution_count": 28,
   "id": "5afb6e1a-9195-41c6-8412-ca280b7d113c",
   "metadata": {},
   "outputs": [
    {
     "data": {
      "image/png": "[encoded data removed]",
      "text/plain": [
       "<Figure size 640x480 with 1 Axes>"
      ]
     },
     "metadata": {},
     "output_type": "display_data"
    }
   ],
   "source": [
    "create_train_val_loss_map(train_loss_list, val_loss_list)"
   ]
  },
  {
   "cell_type": "markdown",
   "id": "414016a1-0195-4577-98dd-d2e0b8d5c37e",
   "metadata": {},
   "source": [
    "### Precision, Recall and F1 Score EfficientNet B0"
   ]
  },
  {
   "cell_type": "code",
   "execution_count": 38,
   "id": "a043d300-9b92-4a75-91b2-fac365590704",
   "metadata": {},
   "outputs": [
    {
     "name": "stdout",
     "output_type": "stream",
     "text": [
      "Training data\n",
      "Accuracy: 0.9420\n",
      "Precision: 0.9383\n",
      "Recall: 0.9750\n",
      "F1 Score: 0.9563\n",
      "\n",
      "Validation data\n",
      "Accuracy: 0.6560\n",
      "Precision: 0.3929\n",
      "Recall: 0.8979\n",
      "F1 Score: 0.5466\n",
      "\n",
      "Testing data\n",
      "Accuracy: 0.7449\n",
      "Precision: 0.8129\n",
      "Recall: 0.8414\n",
      "F1 Score: 0.8269\n",
      "\n"
     ]
    }
   ],
   "source": [
    "test_metrics(\"./best_effb0_clf.pt\",\"EfficientNetB0\")"
   ]
  },
  {
   "cell_type": "markdown",
   "id": "b07ca13b-be51-4088-9503-c6ece8440251",
   "metadata": {},
   "source": [
    "##\n",
    "### RESNET 50"
   ]
  },
  {
   "cell_type": "code",
   "execution_count": 24,
   "id": "5e78cf0d-0b8c-4100-94db-da586d289f83",
   "metadata": {},
   "outputs": [],
   "source": [
    "class ResNet50_Classifier(nn.Module):\n",
    "    def __init__(self):\n",
    "        super().__init__()\n",
    "        self.model = torchvision.models.resnet50(pretrained=True)\n",
    "\n",
    "        # Freeze all layers\n",
    "        for param in self.model.parameters():\n",
    "            param.requires_grad = False\n",
    "\n",
    "        # Unfreeze last layer\n",
    "        for param in self.model.fc.parameters():\n",
    "            param.requires_grad = True\n",
    "\n",
    "        self.last_layer = nn.Sequential(\n",
    "            nn.BatchNorm1d(1000),\n",
    "            nn.ReLU(),\n",
    "            nn.Dropout(0.3),\n",
    "            nn.Linear(1000,2),\n",
    "        )\n",
    "\n",
    "\n",
    "    def forward(self, x):\n",
    "        x = self.model(x)\n",
    "        x = x.view(x.size(0),-1)\n",
    "        x = self.last_layer(x)\n",
    "        return x"
   ]
  },
  {
   "cell_type": "code",
   "execution_count": 25,
   "id": "186bb757-9e42-478c-9baf-d2de1feb0ed8",
   "metadata": {},
   "outputs": [
    {
     "name": "stderr",
     "output_type": "stream",
     "text": [
      "D:\\application\\Anaconda\\Lib\\site-packages\\torchvision\\models\\_utils.py:208: UserWarning: The parameter 'pretrained' is deprecated since 0.13 and may be removed in the future, please use 'weights' instead.\n",
      "  warnings.warn(\n",
      "D:\\application\\Anaconda\\Lib\\site-packages\\torchvision\\models\\_utils.py:223: UserWarning: Arguments other than a weight enum or `None` for 'weights' are deprecated since 0.13 and may be removed in the future. The current behavior is equivalent to passing `weights=ResNet50_Weights.IMAGENET1K_V1`. You can also use `weights=ResNet50_Weights.DEFAULT` to get the most up-to-date weights.\n",
      "  warnings.warn(msg)\n"
     ]
    }
   ],
   "source": [
    "device = torch.device(\"cuda\")\n",
    "clf_resnet = ResNet50_Classifier().to(device)\n",
    "opt = Adam(clf_resnet.parameters(), lr=0.001,weight_decay=0.0001)\n",
    "loss_fn = nn.CrossEntropyLoss()"
   ]
  },
  {
   "cell_type": "code",
   "execution_count": 15,
   "id": "7eeaabb4-1aa2-4906-85d6-1adbcc663f2c",
   "metadata": {},
   "outputs": [
    {
     "name": "stderr",
     "output_type": "stream",
     "text": [
      "  7%|█████▍                                                                            | 1/15 [03:11<44:34, 191.04s/it]"
     ]
    },
    {
     "name": "stdout",
     "output_type": "stream",
     "text": [
      "Epoch 0 training loss =0.2608626186847687 Validation loss=0.9745075702667236\n"
     ]
    },
    {
     "name": "stderr",
     "output_type": "stream",
     "text": [
      " 13%|██████████▉                                                                       | 2/15 [06:05<39:18, 181.44s/it]"
     ]
    },
    {
     "name": "stdout",
     "output_type": "stream",
     "text": [
      "Epoch 1 training loss =0.2239372432231903 Validation loss=1.0386993885040283\n"
     ]
    },
    {
     "name": "stderr",
     "output_type": "stream",
     "text": [
      " 20%|████████████████▍                                                                 | 3/15 [09:02<35:50, 179.20s/it]"
     ]
    },
    {
     "name": "stdout",
     "output_type": "stream",
     "text": [
      "Epoch 2 training loss =0.20474857091903687 Validation loss=0.8593125939369202\n"
     ]
    },
    {
     "name": "stderr",
     "output_type": "stream",
     "text": [
      " 27%|█████████████████████▊                                                            | 4/15 [11:59<32:42, 178.43s/it]"
     ]
    },
    {
     "name": "stdout",
     "output_type": "stream",
     "text": [
      "Epoch 3 training loss =0.19364553689956665 Validation loss=0.8412423729896545\n"
     ]
    },
    {
     "name": "stderr",
     "output_type": "stream",
     "text": [
      " 33%|███████████████████████████▎                                                      | 5/15 [15:03<30:04, 180.44s/it]"
     ]
    },
    {
     "name": "stdout",
     "output_type": "stream",
     "text": [
      "Epoch 4 training loss =0.1923336684703827 Validation loss=1.124165415763855\n"
     ]
    },
    {
     "name": "stderr",
     "output_type": "stream",
     "text": [
      " 40%|████████████████████████████████▊                                                 | 6/15 [18:01<26:57, 179.70s/it]"
     ]
    },
    {
     "name": "stdout",
     "output_type": "stream",
     "text": [
      "Epoch 5 training loss =0.18637460470199585 Validation loss=0.8822640776634216\n"
     ]
    },
    {
     "name": "stderr",
     "output_type": "stream",
     "text": [
      " 47%|██████████████████████████████████████▎                                           | 7/15 [21:00<23:54, 179.30s/it]"
     ]
    },
    {
     "name": "stdout",
     "output_type": "stream",
     "text": [
      "Epoch 6 training loss =0.1778874397277832 Validation loss=1.4064209461212158\n"
     ]
    },
    {
     "name": "stderr",
     "output_type": "stream",
     "text": [
      " 53%|███████████████████████████████████████████▋                                      | 8/15 [23:58<20:53, 179.01s/it]"
     ]
    },
    {
     "name": "stdout",
     "output_type": "stream",
     "text": [
      "Epoch 7 training loss =0.1709161102771759 Validation loss=0.9234028458595276\n"
     ]
    },
    {
     "name": "stderr",
     "output_type": "stream",
     "text": [
      " 60%|█████████████████████████████████████████████████▏                                | 9/15 [26:57<17:53, 178.84s/it]"
     ]
    },
    {
     "name": "stdout",
     "output_type": "stream",
     "text": [
      "Epoch 8 training loss =0.17371878027915955 Validation loss=0.89699786901474\n"
     ]
    },
    {
     "name": "stderr",
     "output_type": "stream",
     "text": [
      " 67%|██████████████████████████████████████████████████████                           | 10/15 [29:55<14:53, 178.79s/it]"
     ]
    },
    {
     "name": "stdout",
     "output_type": "stream",
     "text": [
      "Epoch 9 training loss =0.16423505544662476 Validation loss=1.246614694595337\n"
     ]
    },
    {
     "name": "stderr",
     "output_type": "stream",
     "text": [
      " 73%|███████████████████████████████████████████████████████████▍                     | 11/15 [32:57<11:58, 179.57s/it]"
     ]
    },
    {
     "name": "stdout",
     "output_type": "stream",
     "text": [
      "Epoch 10 training loss =0.17253458499908447 Validation loss=0.8469125032424927\n"
     ]
    },
    {
     "name": "stderr",
     "output_type": "stream",
     "text": [
      " 80%|████████████████████████████████████████████████████████████████▊                | 12/15 [35:55<08:57, 179.32s/it]"
     ]
    },
    {
     "name": "stdout",
     "output_type": "stream",
     "text": [
      "Epoch 11 training loss =0.16182497143745422 Validation loss=1.3885407447814941\n"
     ]
    },
    {
     "name": "stderr",
     "output_type": "stream",
     "text": [
      " 87%|██████████████████████████████████████████████████████████████████████▏          | 13/15 [38:54<05:58, 179.25s/it]"
     ]
    },
    {
     "name": "stdout",
     "output_type": "stream",
     "text": [
      "Epoch 12 training loss =0.1643677055835724 Validation loss=0.7414103746414185\n"
     ]
    },
    {
     "name": "stderr",
     "output_type": "stream",
     "text": [
      " 93%|███████████████████████████████████████████████████████████████████████████▌     | 14/15 [41:53<02:59, 179.04s/it]"
     ]
    },
    {
     "name": "stdout",
     "output_type": "stream",
     "text": [
      "Epoch 13 training loss =0.16679854691028595 Validation loss=0.787566065788269\n"
     ]
    },
    {
     "name": "stderr",
     "output_type": "stream",
     "text": [
      "100%|█████████████████████████████████████████████████████████████████████████████████| 15/15 [44:52<00:00, 179.53s/it]"
     ]
    },
    {
     "name": "stdout",
     "output_type": "stream",
     "text": [
      "Epoch 14 training loss =0.1617291122674942 Validation loss=0.9687812924385071\n"
     ]
    },
    {
     "name": "stderr",
     "output_type": "stream",
     "text": [
      "\n"
     ]
    }
   ],
   "source": [
    "train_loss_list = []\n",
    "val_loss_list = []\n",
    "best_vloss = 100000\n",
    "before_vloss = 100000\n",
    "patience_param = 0\n",
    "\n",
    "for epoch in tqdm(range(15)):\n",
    "    # Training Phase\n",
    "    clf_resnet.train(True)\n",
    "    running_trloss = 0.0\n",
    "    for batch in trainloader:\n",
    "        X_train, y_train = batch\n",
    "        X_train, y_train = X_train.to(device), y_train.to(device)\n",
    "        yhat = clf_resnet(X_train)\n",
    "        y_loss = loss_fn(yhat, y_train)\n",
    "        running_trloss += y_loss\n",
    "        opt.zero_grad()\n",
    "        y_loss.backward()\n",
    "        opt.step()\n",
    "\n",
    "    running_trloss = running_trloss/len(trainloader)\n",
    "    train_loss_list.append(running_trloss.item())\n",
    "\n",
    "    running_vloss = 0.0\n",
    "    # Validation Phase\n",
    "    clf_resnet.eval()\n",
    "    with torch.no_grad():\n",
    "        for vbatch in validloader:\n",
    "            X_val, y_val = vbatch\n",
    "            X_val, y_val = X_val.to(device), y_val.to(device)\n",
    "            yhat_val = clf_resnet(X_val)\n",
    "            y_loss_val = loss_fn(yhat_val, y_val)\n",
    "            running_vloss += y_loss_val\n",
    "\n",
    "    running_vloss = running_vloss/len(validloader)\n",
    "    val_loss_list.append(running_vloss.item())\n",
    "\n",
    "    print(f\"Epoch {epoch} training loss ={running_trloss} Validation loss={running_vloss}\")\n",
    "\n",
    "    if best_vloss > running_vloss:\n",
    "        best_vloss = running_vloss\n",
    "        torch.save(clf_resnet, 'best_effb0_clf.pt')\n",
    "\n",
    "    if running_vloss - before_vloss > 0.2 and epoch>=10:\n",
    "        print(\"Breaking due to early stopping\")\n",
    "        break\n",
    "    elif before_vloss - running_vloss <= 0.000001 and epoch>=10 :\n",
    "        print(\"Breaking due to early stopping\")\n",
    "        patience_param += 1\n",
    "        if patience_param == 2:\n",
    "            break\n",
    "    else:\n",
    "        patience_param = 0\n",
    "        before_vloss = running_vloss"
   ]
  },
  {
   "cell_type": "code",
   "execution_count": 18,
   "id": "e9169901-6670-47f6-9f93-03352a2a0d61",
   "metadata": {},
   "outputs": [
    {
     "data": {
      "image/png": "[encoded data removed]",
      "text/plain": [
       "<Figure size 640x480 with 1 Axes>"
      ]
     },
     "metadata": {},
     "output_type": "display_data"
    }
   ],
   "source": [
    "create_train_val_loss_map(train_loss_list, val_loss_list)"
   ]
  },
  {
   "cell_type": "markdown",
   "id": "920243d0-5e93-4024-a197-85e46fca7e04",
   "metadata": {},
   "source": [
    "### Precision, Recall and F1 Score for ResNet50"
   ]
  },
  {
   "cell_type": "code",
   "execution_count": 26,
   "id": "cae62039-92a6-48f3-9aac-effcf134338d",
   "metadata": {},
   "outputs": [
    {
     "name": "stdout",
     "output_type": "stream",
     "text": [
      "Training data\n",
      "Accuracy: 0.9690\n",
      "Precision: 0.9877\n",
      "Recall: 0.9643\n",
      "F1 Score: 0.9759\n",
      "\n",
      "Validation data\n",
      "Accuracy: 0.7277\n",
      "Precision: 0.4571\n",
      "Recall: 0.9523\n",
      "F1 Score: 0.6177\n",
      "\n",
      "Testing data\n",
      "Accuracy: 0.8708\n",
      "Precision: 0.9394\n",
      "Recall: 0.8782\n",
      "F1 Score: 0.9078\n",
      "\n"
     ]
    }
   ],
   "source": [
    "test_metrics(\"./best_resnet50_clf.pt\",\"ResNet50\")"
   ]
  },
  {
   "cell_type": "markdown",
   "id": "5e55ec8b-5570-4de8-a70c-e1b7a8ac7d3d",
   "metadata": {},
   "source": [
    "### VGG 16"
   ]
  },
  {
   "cell_type": "code",
   "execution_count": 27,
   "id": "194a8102-a970-4d96-acfa-244ded6bd8cb",
   "metadata": {},
   "outputs": [],
   "source": [
    "class VGG16_Classifier(nn.Module):\n",
    "    def __init__(self):\n",
    "        super().__init__()\n",
    "        self.model = torchvision.models.vgg16(pretrained=True)\n",
    "\n",
    "        # Freeze all layers\n",
    "        for param in self.model.parameters():\n",
    "            param.requires_grad = False\n",
    "\n",
    "        # Unfreeze last layer\n",
    "        for param in self.model.classifier.parameters():\n",
    "            param.requires_grad = True\n",
    "\n",
    "        self.last_layer = nn.Sequential(\n",
    "            nn.BatchNorm1d(1000),\n",
    "            nn.ReLU(),\n",
    "            nn.Dropout(0.3),\n",
    "            nn.Linear(1000,2),\n",
    "        )\n",
    "\n",
    "\n",
    "    def forward(self, x):\n",
    "        x = self.model(x)\n",
    "        x = x.view(x.size(0),-1)\n",
    "        x = self.last_layer(x)\n",
    "        return x"
   ]
  },
  {
   "cell_type": "code",
   "execution_count": 28,
   "id": "9e01899a-ff30-431f-b91a-43644c640ea5",
   "metadata": {},
   "outputs": [
    {
     "name": "stderr",
     "output_type": "stream",
     "text": [
      "D:\\application\\Anaconda\\Lib\\site-packages\\torchvision\\models\\_utils.py:208: UserWarning: The parameter 'pretrained' is deprecated since 0.13 and may be removed in the future, please use 'weights' instead.\n",
      "  warnings.warn(\n",
      "D:\\application\\Anaconda\\Lib\\site-packages\\torchvision\\models\\_utils.py:223: UserWarning: Arguments other than a weight enum or `None` for 'weights' are deprecated since 0.13 and may be removed in the future. The current behavior is equivalent to passing `weights=VGG16_Weights.IMAGENET1K_V1`. You can also use `weights=VGG16_Weights.DEFAULT` to get the most up-to-date weights.\n",
      "  warnings.warn(msg)\n"
     ]
    }
   ],
   "source": [
    "device = torch.device(\"cuda\")\n",
    "clf_vgg16 = VGG16_Classifier().to(device)\n",
    "opt = Adam(clf_vgg16.parameters(), lr=0.001,weight_decay=0.001)\n",
    "loss_fn = nn.CrossEntropyLoss()"
   ]
  },
  {
   "cell_type": "code",
   "execution_count": 17,
   "id": "804434aa-86ec-4d02-a0c9-753545038924",
   "metadata": {},
   "outputs": [
    {
     "name": "stderr",
     "output_type": "stream",
     "text": [
      "  0%|                                                                                           | 0/15 [00:00<?, ?it/s]"
     ]
    },
    {
     "name": "stdout",
     "output_type": "stream",
     "text": [
      "Epoch 0 training loss =0.3410491943359375 Validation loss=2.2080235481262207\n"
     ]
    },
    {
     "name": "stderr",
     "output_type": "stream",
     "text": [
      " 13%|██████████▋                                                                     | 2/15 [14:13<1:30:17, 416.69s/it]"
     ]
    },
    {
     "name": "stdout",
     "output_type": "stream",
     "text": [
      "Epoch 1 training loss =0.2911379039287567 Validation loss=2.4514012336730957\n",
      "Epoch 2 training loss =0.2971936762332916 Validation loss=2.0139310359954834\n"
     ]
    },
    {
     "name": "stderr",
     "output_type": "stream",
     "text": [
      " 20%|████████████████                                                                | 3/15 [20:28<1:19:31, 397.59s/it]"
     ]
    },
    {
     "name": "stdout",
     "output_type": "stream",
     "text": [
      "Epoch 3 training loss =0.2860267758369446 Validation loss=1.8676676750183105\n"
     ]
    },
    {
     "name": "stderr",
     "output_type": "stream",
     "text": [
      " 33%|██████████████████████████▋                                                     | 5/15 [32:55<1:03:41, 382.17s/it]"
     ]
    },
    {
     "name": "stdout",
     "output_type": "stream",
     "text": [
      "Epoch 4 training loss =0.2697628140449524 Validation loss=2.4538745880126953\n"
     ]
    },
    {
     "name": "stderr",
     "output_type": "stream",
     "text": [
      " 40%|████████████████████████████████▊                                                 | 6/15 [39:04<56:39, 377.68s/it]"
     ]
    },
    {
     "name": "stdout",
     "output_type": "stream",
     "text": [
      "Epoch 5 training loss =0.27222469449043274 Validation loss=2.3954195976257324\n"
     ]
    },
    {
     "name": "stderr",
     "output_type": "stream",
     "text": [
      " 47%|██████████████████████████████████████▎                                           | 7/15 [45:13<50:00, 375.03s/it]"
     ]
    },
    {
     "name": "stdout",
     "output_type": "stream",
     "text": [
      "Epoch 6 training loss =0.27041810750961304 Validation loss=2.2473039627075195\n"
     ]
    },
    {
     "name": "stderr",
     "output_type": "stream",
     "text": [
      " 53%|███████████████████████████████████████████▋                                      | 8/15 [51:22<43:31, 373.12s/it]"
     ]
    },
    {
     "name": "stdout",
     "output_type": "stream",
     "text": [
      "Epoch 7 training loss =0.2737042307853699 Validation loss=1.966301441192627\n"
     ]
    },
    {
     "name": "stderr",
     "output_type": "stream",
     "text": [
      " 60%|█████████████████████████████████████████████████▏                                | 9/15 [57:31<37:11, 371.85s/it]"
     ]
    },
    {
     "name": "stdout",
     "output_type": "stream",
     "text": [
      "Epoch 8 training loss =0.270367830991745 Validation loss=1.906412959098816\n"
     ]
    },
    {
     "name": "stderr",
     "output_type": "stream",
     "text": [
      " 67%|████████████████████████████████████████████████████▋                          | 10/15 [1:03:40<30:54, 370.94s/it]"
     ]
    },
    {
     "name": "stdout",
     "output_type": "stream",
     "text": [
      "Epoch 9 training loss =0.2777791917324066 Validation loss=2.245830774307251\n"
     ]
    },
    {
     "name": "stderr",
     "output_type": "stream",
     "text": [
      " 73%|█████████████████████████████████████████████████████████▉                     | 11/15 [1:09:50<24:41, 370.48s/it]"
     ]
    },
    {
     "name": "stdout",
     "output_type": "stream",
     "text": [
      "Epoch 10 training loss =0.2697116732597351 Validation loss=2.4285802841186523\n",
      "Breaking due to early stopping\n"
     ]
    },
    {
     "name": "stderr",
     "output_type": "stream",
     "text": [
      " 73%|█████████████████████████████████████████████████████████▉                     | 11/15 [1:15:59<27:37, 414.50s/it]"
     ]
    },
    {
     "name": "stdout",
     "output_type": "stream",
     "text": [
      "Epoch 11 training loss =0.27600398659706116 Validation loss=2.333165168762207\n",
      "Breaking due to early stopping\n"
     ]
    },
    {
     "name": "stderr",
     "output_type": "stream",
     "text": [
      "\n"
     ]
    }
   ],
   "source": [
    "train_loss_list = []\n",
    "val_loss_list = []\n",
    "best_vloss = 100000\n",
    "before_vloss = 100000\n",
    "patience_param = 0\n",
    "\n",
    "for epoch in tqdm(range(15)):\n",
    "    # Training Phase\n",
    "    clf_vgg16.train(True)\n",
    "    running_trloss = 0.0\n",
    "    for batch in trainloader:\n",
    "        X_train, y_train = batch\n",
    "        X_train, y_train = X_train.to(device), y_train.to(device)\n",
    "        yhat = clf_vgg16(X_train)\n",
    "        y_loss = loss_fn(yhat, y_train)\n",
    "        running_trloss += y_loss\n",
    "        opt.zero_grad()\n",
    "        y_loss.backward()\n",
    "        opt.step()\n",
    "\n",
    "    running_trloss = running_trloss/len(trainloader)\n",
    "    train_loss_list.append(running_trloss.item())\n",
    "\n",
    "    running_vloss = 0.0\n",
    "    # Validation Phase\n",
    "    clf_vgg16.eval()\n",
    "    with torch.no_grad():\n",
    "        for vbatch in validloader:\n",
    "            X_val, y_val = vbatch\n",
    "            X_val, y_val = X_val.to(device), y_val.to(device)\n",
    "            yhat_val = clf_vgg16(X_val)\n",
    "            y_loss_val = loss_fn(yhat_val, y_val)\n",
    "            running_vloss += y_loss_val\n",
    "\n",
    "    running_vloss = running_vloss/len(validloader)\n",
    "    val_loss_list.append(running_vloss.item())\n",
    "\n",
    "    print(f\"Epoch {epoch} training loss ={running_trloss} Validation loss={running_vloss}\")\n",
    "\n",
    "    if best_vloss > running_vloss:\n",
    "        best_vloss = running_vloss\n",
    "        torch.save(clf_vgg16, 'best_vgg16_clf.pt')\n",
    "\n",
    "    if running_vloss - before_vloss > 0.2 and epoch>=10:\n",
    "        print(\"Breaking due to early stopping\")\n",
    "        break\n",
    "    elif before_vloss - running_vloss <= 0.000001 and epoch>=10 :\n",
    "        patience_param += 1\n",
    "        if patience_param == 2:\n",
    "            print(\"Breaking due to early stopping\")\n",
    "            break\n",
    "    else:\n",
    "        patience_param = 0\n",
    "        before_vloss = running_vloss"
   ]
  },
  {
   "cell_type": "markdown",
   "id": "cfb701ba-fcdb-42c2-83f6-ec75cd020f11",
   "metadata": {},
   "source": [
    "### Training vs Validation Loss for VGG 16"
   ]
  },
  {
   "cell_type": "code",
   "execution_count": 18,
   "id": "b2d1fde4-1e5d-419c-ab2b-54d82c25d28c",
   "metadata": {},
   "outputs": [
    {
     "data": {
      "image/png": "[encoded data removed]",
      "text/plain": [
       "<Figure size 640x480 with 1 Axes>"
      ]
     },
     "metadata": {},
     "output_type": "display_data"
    }
   ],
   "source": [
    "create_train_val_loss_map(train_loss_list, val_loss_list)"
   ]
  },
  {
   "cell_type": "markdown",
   "id": "e4635f52-ac0e-4f82-a159-fea880a3f145",
   "metadata": {},
   "source": [
    "### Precision, Recall and F1 Score for VGG16"
   ]
  },
  {
   "cell_type": "code",
   "execution_count": 29,
   "id": "da7bb367-e85f-4667-a587-5253cbe0d618",
   "metadata": {},
   "outputs": [
    {
     "name": "stdout",
     "output_type": "stream",
     "text": [
      "Training data\n",
      "Accuracy: 0.9234\n",
      "Precision: 0.9391\n",
      "Recall: 0.9435\n",
      "F1 Score: 0.9413\n",
      "\n",
      "Validation data\n",
      "Accuracy: 0.3107\n",
      "Precision: 0.2510\n",
      "Recall: 1.0000\n",
      "F1 Score: 0.4012\n",
      "\n",
      "Testing data\n",
      "Accuracy: 0.7390\n",
      "Precision: 0.7371\n",
      "Recall: 0.9941\n",
      "F1 Score: 0.8465\n",
      "\n"
     ]
    }
   ],
   "source": [
    "test_metrics(\"./best_vgg16_clf.pt\",\"VGG 16 Model\")"
   ]
  },
  {
   "cell_type": "code",
   "execution_count": 39,
   "id": "32de60b4-bf25-4022-8a5e-ebef511bfde3",
   "metadata": {},
   "outputs": [
    {
     "data": {
      "text/html": [
       "<style type=\"text/css\">\n",
       "</style>\n",
       "<table id=\"T_6e46d\">\n",
       "  <thead>\n",
       "    <tr>\n",
       "      <th class=\"blank level0\" >&nbsp;</th>\n",
       "      <th id=\"T_6e46d_level0_col0\" class=\"col_heading level0 col0\" >Train Accuracy</th>\n",
       "      <th id=\"T_6e46d_level0_col1\" class=\"col_heading level0 col1\" >Train Precision</th>\n",
       "      <th id=\"T_6e46d_level0_col2\" class=\"col_heading level0 col2\" >Train Recall</th>\n",
       "      <th id=\"T_6e46d_level0_col3\" class=\"col_heading level0 col3\" >Train F1 Score</th>\n",
       "      <th id=\"T_6e46d_level0_col4\" class=\"col_heading level0 col4\" >Validation Accuracy</th>\n",
       "      <th id=\"T_6e46d_level0_col5\" class=\"col_heading level0 col5\" >Validation Precision</th>\n",
       "      <th id=\"T_6e46d_level0_col6\" class=\"col_heading level0 col6\" >Validation Recall</th>\n",
       "      <th id=\"T_6e46d_level0_col7\" class=\"col_heading level0 col7\" >Validation F1 Score</th>\n",
       "      <th id=\"T_6e46d_level0_col8\" class=\"col_heading level0 col8\" >Test Accuracy</th>\n",
       "      <th id=\"T_6e46d_level0_col9\" class=\"col_heading level0 col9\" >Test Precision</th>\n",
       "      <th id=\"T_6e46d_level0_col10\" class=\"col_heading level0 col10\" >Test Recall</th>\n",
       "      <th id=\"T_6e46d_level0_col11\" class=\"col_heading level0 col11\" >Test F1 Score</th>\n",
       "    </tr>\n",
       "  </thead>\n",
       "  <tbody>\n",
       "    <tr>\n",
       "      <th id=\"T_6e46d_level0_row0\" class=\"row_heading level0 row0\" >CNN MPL Model</th>\n",
       "      <td id=\"T_6e46d_row0_col0\" class=\"data row0 col0\" >0.829804</td>\n",
       "      <td id=\"T_6e46d_row0_col1\" class=\"data row0 col1\" >0.943863</td>\n",
       "      <td id=\"T_6e46d_row0_col2\" class=\"data row0 col2\" >0.785131</td>\n",
       "      <td id=\"T_6e46d_row0_col3\" class=\"data row0 col3\" >0.857211</td>\n",
       "      <td id=\"T_6e46d_row0_col4\" class=\"data row0 col4\" >0.872100</td>\n",
       "      <td id=\"T_6e46d_row0_col5\" class=\"data row0 col5\" >0.665715</td>\n",
       "      <td id=\"T_6e46d_row0_col6\" class=\"data row0 col6\" >0.896268</td>\n",
       "      <td id=\"T_6e46d_row0_col7\" class=\"data row0 col7\" >0.763977</td>\n",
       "      <td id=\"T_6e46d_row0_col8\" class=\"data row0 col8\" >0.673984</td>\n",
       "      <td id=\"T_6e46d_row0_col9\" class=\"data row0 col9\" >0.799698</td>\n",
       "      <td id=\"T_6e46d_row0_col10\" class=\"data row0 col10\" >0.733634</td>\n",
       "      <td id=\"T_6e46d_row0_col11\" class=\"data row0 col11\" >0.765243</td>\n",
       "    </tr>\n",
       "    <tr>\n",
       "      <th id=\"T_6e46d_level0_row1\" class=\"row_heading level0 row1\" >EfficientNetB0</th>\n",
       "      <td id=\"T_6e46d_row1_col0\" class=\"data row1 col0\" >0.941993</td>\n",
       "      <td id=\"T_6e46d_row1_col1\" class=\"data row1 col1\" >0.938299</td>\n",
       "      <td id=\"T_6e46d_row1_col2\" class=\"data row1 col2\" >0.974965</td>\n",
       "      <td id=\"T_6e46d_row1_col3\" class=\"data row1 col3\" >0.956280</td>\n",
       "      <td id=\"T_6e46d_row1_col4\" class=\"data row1 col4\" >0.655977</td>\n",
       "      <td id=\"T_6e46d_row1_col5\" class=\"data row1 col5\" >0.392891</td>\n",
       "      <td id=\"T_6e46d_row1_col6\" class=\"data row1 col6\" >0.897914</td>\n",
       "      <td id=\"T_6e46d_row1_col7\" class=\"data row1 col7\" >0.546609</td>\n",
       "      <td id=\"T_6e46d_row1_col8\" class=\"data row1 col8\" >0.744857</td>\n",
       "      <td id=\"T_6e46d_row1_col9\" class=\"data row1 col9\" >0.812918</td>\n",
       "      <td id=\"T_6e46d_row1_col10\" class=\"data row1 col10\" >0.841358</td>\n",
       "      <td id=\"T_6e46d_row1_col11\" class=\"data row1 col11\" >0.826894</td>\n",
       "    </tr>\n",
       "    <tr>\n",
       "      <th id=\"T_6e46d_level0_row2\" class=\"row_heading level0 row2\" >ResNet50</th>\n",
       "      <td id=\"T_6e46d_row2_col0\" class=\"data row2 col0\" >0.968978</td>\n",
       "      <td id=\"T_6e46d_row2_col1\" class=\"data row2 col1\" >0.987736</td>\n",
       "      <td id=\"T_6e46d_row2_col2\" class=\"data row2 col2\" >0.964297</td>\n",
       "      <td id=\"T_6e46d_row2_col3\" class=\"data row2 col3\" >0.975876</td>\n",
       "      <td id=\"T_6e46d_row2_col4\" class=\"data row2 col4\" >0.727722</td>\n",
       "      <td id=\"T_6e46d_row2_col5\" class=\"data row2 col5\" >0.457060</td>\n",
       "      <td id=\"T_6e46d_row2_col6\" class=\"data row2 col6\" >0.952250</td>\n",
       "      <td id=\"T_6e46d_row2_col7\" class=\"data row2 col7\" >0.617658</td>\n",
       "      <td id=\"T_6e46d_row2_col8\" class=\"data row2 col8\" >0.870798</td>\n",
       "      <td id=\"T_6e46d_row2_col9\" class=\"data row2 col9\" >0.939422</td>\n",
       "      <td id=\"T_6e46d_row2_col10\" class=\"data row2 col10\" >0.878247</td>\n",
       "      <td id=\"T_6e46d_row2_col11\" class=\"data row2 col11\" >0.907805</td>\n",
       "    </tr>\n",
       "    <tr>\n",
       "      <th id=\"T_6e46d_level0_row3\" class=\"row_heading level0 row3\" >VGG 16 Model</th>\n",
       "      <td id=\"T_6e46d_row3_col0\" class=\"data row3 col0\" >0.923437</td>\n",
       "      <td id=\"T_6e46d_row3_col1\" class=\"data row3 col1\" >0.939112</td>\n",
       "      <td id=\"T_6e46d_row3_col2\" class=\"data row3 col2\" >0.943507</td>\n",
       "      <td id=\"T_6e46d_row3_col3\" class=\"data row3 col3\" >0.941304</td>\n",
       "      <td id=\"T_6e46d_row3_col4\" class=\"data row3 col4\" >0.310686</td>\n",
       "      <td id=\"T_6e46d_row3_col5\" class=\"data row3 col5\" >0.250964</td>\n",
       "      <td id=\"T_6e46d_row3_col6\" class=\"data row3 col6\" >1.000000</td>\n",
       "      <td id=\"T_6e46d_row3_col7\" class=\"data row3 col7\" >0.401233</td>\n",
       "      <td id=\"T_6e46d_row3_col8\" class=\"data row3 col8\" >0.738961</td>\n",
       "      <td id=\"T_6e46d_row3_col9\" class=\"data row3 col9\" >0.737126</td>\n",
       "      <td id=\"T_6e46d_row3_col10\" class=\"data row3 col10\" >0.994112</td>\n",
       "      <td id=\"T_6e46d_row3_col11\" class=\"data row3 col11\" >0.846545</td>\n",
       "    </tr>\n",
       "  </tbody>\n",
       "</table>\n"
      ],
      "text/plain": [
       "<pandas.io.formats.style.Styler at 0x2da57e1c7d0>"
      ]
     },
     "execution_count": 39,
     "metadata": {},
     "output_type": "execute_result"
    }
   ],
   "source": [
    "df_result = pd.DataFrame(result_summary)\n",
    "df_result.index = [\"Train Accuracy\",\"Train Precision\",\"Train Recall\", \"Train F1 Score\", \"Validation Accuracy\",\"Validation Precision\",\"Validation Recall\", \"Validation F1 Score\", \"Test Accuracy\",\"Test Precision\",\"Test Recall\", \"Test F1 Score\" ]\n",
    "df_result = df_result.T\n",
    "df_result.style"
   ]
  },
  {
   "cell_type": "markdown",
   "id": "5cdf8597-52e8-4226-92dd-c28dabf2b585",
   "metadata": {},
   "source": [
    "### Observations between Tranfer Learning and CNN + MLP model\n",
    "#### 1) CNN + MLP model requires more number of epochs to train as we need to train the whole network.\n",
    "#### 2) With our limited data and epochs the transfer learning algorithms learnt very well than CNN and MLP model. \n",
    "#### 3) Out of all EfficientNet50 has the best overall numbers but ResNet50 has better score over Test Set.\n",
    "#### 4) All transfer learning algorithm have performed better than CNN MLP model.\n",
    "#### 5) Transfer Learning networks like ResNet50 and VGG16 might have been overfit to the training data."
   ]
  },
  {
   "cell_type": "code",
   "execution_count": null,
   "id": "8717bf9a-b706-4d4f-aec3-f8674a809b6b",
   "metadata": {},
   "outputs": [],
   "source": []
  }
 ],
 "metadata": {
  "accelerator": "GPU",
  "colab": {
   "gpuType": "V100",
   "provenance": []
  },
  "kernelspec": {
   "display_name": "Python 3 (ipykernel)",
   "language": "python",
   "name": "python3"
  },
  "language_info": {
   "codemirror_mode": {
    "name": "ipython",
    "version": 3
   },
   "file_extension": ".py",
   "mimetype": "text/x-python",
   "name": "python",
   "nbconvert_exporter": "python",
   "pygments_lexer": "ipython3",
   "version": "3.11.5"
  }
 },
 "nbformat": 4,
 "nbformat_minor": 5
}
